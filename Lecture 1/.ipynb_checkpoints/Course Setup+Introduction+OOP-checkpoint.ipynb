{
 "cells": [
  {
   "cell_type": "markdown",
   "metadata": {
    "slideshow": {
     "slide_type": "slide"
    }
   },
   "source": [
    "<center><img src=\"img/dsa-logo.JPG\" width=\"400\"/>\n",
    "\n",
    "\n",
    "***\n",
    "\n",
    "<center>01 September 2025<center>\n",
    "<center>Rahman Peimankar<center>\n"
   ]
  },
  {
   "cell_type": "code",
   "execution_count": 3,
   "metadata": {},
   "outputs": [],
   "source": [
    "#!pip install RISE"
   ]
  },
  {
   "cell_type": "markdown",
   "metadata": {
    "slideshow": {
     "slide_type": "slide"
    }
   },
   "source": [
    "* **Instructor:** Abdolrahman (Rahman) Peimankar \n",
    "* **Affiliation:** Associate Professor at The Maersk Mc-Kinney Moller Institute, SDU Health Informatics and Technology\n",
    "* **Email:** abpe@mmmi.sdu.dk \n",
    "* **Office location:** Ø19-609b-1 "
   ]
  },
  {
   "cell_type": "markdown",
   "metadata": {
    "slideshow": {
     "slide_type": "slide"
    }
   },
   "source": [
    "## Now it is your turn! 😊 "
   ]
  },
  {
   "cell_type": "markdown",
   "metadata": {
    "slideshow": {
     "slide_type": "-"
    }
   },
   "source": [
    "* Your name and education, and\n",
    "* If you are an exchange or SDU student"
   ]
  },
  {
   "cell_type": "markdown",
   "metadata": {
    "slideshow": {
     "slide_type": "slide"
    }
   },
   "source": [
    "# Lecture 1 - Agenda"
   ]
  },
  {
   "cell_type": "markdown",
   "metadata": {
    "slideshow": {
     "slide_type": "-"
    }
   },
   "source": [
    "1. Basic Python Programming Elements\n",
    "2. Object-Oriented Programming\n",
    "3. Exercises"
   ]
  },
  {
   "cell_type": "markdown",
   "metadata": {
    "slideshow": {
     "slide_type": "slide"
    }
   },
   "source": [
    "### Python book"
   ]
  },
  {
   "cell_type": "markdown",
   "metadata": {
    "slideshow": {
     "slide_type": "-"
    }
   },
   "source": [
    "Whirlwind Tour of Python, by Jake VanderPlas (free online book). (https://jakevdp.github.io/WhirlwindTourOfPython/)"
   ]
  },
  {
   "cell_type": "markdown",
   "metadata": {
    "slideshow": {
     "slide_type": "fragment"
    }
   },
   "source": [
    "**NOTE:** You will also need a laptop, which is capable of displaying and outputting graphics and running a web browser. Our laptops will be used in every session to do demos, hands-on tutorials and exercises, and presentations. "
   ]
  },
  {
   "cell_type": "markdown",
   "metadata": {
    "slideshow": {
     "slide_type": "slide"
    }
   },
   "source": [
    "### Computational setup"
   ]
  },
  {
   "cell_type": "markdown",
   "metadata": {
    "slideshow": {
     "slide_type": "-"
    }
   },
   "source": [
    "**Anaconda:** [Anaconda](https://www.anaconda.com/) can be downloaded and installed in order to use Jupyter Notebooks as a stand-alone solution on your machines/laptops. \n",
    "* We will use Anaconda to to develop and data analysis. \n",
    "* This will provide us an easy-to-use tool for writing text, code, and generating plots all in a single format called “notebook”. And many more!\n",
    "* It is also free!"
   ]
  },
  {
   "cell_type": "markdown",
   "metadata": {
    "slideshow": {
     "slide_type": "fragment"
    }
   },
   "source": [
    "**Please download and install Anaconda from the above link on your machines now.**"
   ]
  },
  {
   "cell_type": "markdown",
   "metadata": {
    "slideshow": {
     "slide_type": "slide"
    }
   },
   "source": [
    "<center>\n",
    "    \n",
    "# 1. Basic Python Programming Elements"
   ]
  },
  {
   "cell_type": "markdown",
   "metadata": {
    "slideshow": {
     "slide_type": "fragment"
    }
   },
   "source": [
    "* Python is an **interpreted** language.\n",
    "* Many **integrated development environments (IDEs)** provide rich software development platforms for Python,\n"
   ]
  },
  {
   "cell_type": "markdown",
   "metadata": {
    "slideshow": {
     "slide_type": "slide"
    }
   },
   "source": [
    "### A Simple Python Program"
   ]
  },
  {
   "cell_type": "code",
   "execution_count": 1,
   "metadata": {
    "slideshow": {
     "slide_type": "-"
    }
   },
   "outputs": [
    {
     "name": "stdout",
     "output_type": "stream",
     "text": [
      "10 is even.\n",
      "15 is odd.\n",
      "22 is even.\n",
      "33 is odd.\n",
      "40 is even.\n",
      "55 is odd.\n",
      "60 is even.\n"
     ]
    }
   ],
   "source": [
    "# Function to check if a number is even or odd\n",
    "def check_even_odd(numbers):\n",
    "    \"\"\"\n",
    "    This function takes a list of numbers and prints whether each number is even or odd.\n",
    "    \n",
    "    Parameters:\n",
    "    numbers (list): A list of integers.\n",
    "    \n",
    "    Returns:\n",
    "    None\n",
    "    \"\"\"\n",
    "    # Loop through each number in the list\n",
    "    for number in numbers:\n",
    "        # If statement to check if the number is even\n",
    "        if number % 2 == 0:\n",
    "            print(f\"{number} is even.\")\n",
    "        else:\n",
    "            print(f\"{number} is odd.\")\n",
    "\n",
    "# List of numbers to check\n",
    "numbers_list = [10, 15, 22, 33, 40, 55, 60]\n",
    "\n",
    "# Call the function with the list of numbers\n",
    "check_even_odd(numbers_list)"
   ]
  },
  {
   "cell_type": "markdown",
   "metadata": {
    "slideshow": {
     "slide_type": "slide"
    }
   },
   "source": [
    "### Objects in Python"
   ]
  },
  {
   "cell_type": "markdown",
   "metadata": {
    "slideshow": {
     "slide_type": "-"
    }
   },
   "source": [
    "* Python is an object-oriented language and classes form the basis for all data types.\n",
    "* Here we introduce Python’s built-in classes such as ... (**can you name some of them?**)"
   ]
  },
  {
   "cell_type": "markdown",
   "metadata": {
    "slideshow": {
     "slide_type": "fragment"
    }
   },
   "source": [
    "#### 1. Identifiers\n",
    "* Identifiers in Python are case-sensitive.\n",
    "* Identifiers can be composed of almost any combination of letters, numerals, and underscore characters.\n",
    "* An identifier cannot begin with a numeral.\n",
    "* A Python identifier may be assigned to a special object named None.\n",
    "* Although an identifier has no declared type, the object to which it refers has a definite type (**dynamically typed** language)"
   ]
  },
  {
   "cell_type": "markdown",
   "metadata": {
    "slideshow": {
     "slide_type": "slide"
    }
   },
   "source": [
    "There are 33 specially reserved words that cannot be used as identifier:\n",
    "\n",
    "<center>\n",
    "<img src=\"img/Qimage-2.JPG\" width=\"1200\"/>"
   ]
  },
  {
   "cell_type": "markdown",
   "metadata": {
    "slideshow": {
     "slide_type": "slide"
    }
   },
   "source": [
    "#### 2. Python’s Built-In Classes"
   ]
  },
  {
   "cell_type": "markdown",
   "metadata": {
    "slideshow": {
     "slide_type": "-"
    }
   },
   "source": [
    "<center>\n",
    "<img src=\"img/Qimage-3.JPG\" width=\"1200\"/>"
   ]
  },
  {
   "cell_type": "markdown",
   "metadata": {
    "slideshow": {
     "slide_type": "slide"
    }
   },
   "source": [
    "#### 3. Python’s Built-In Functions"
   ]
  },
  {
   "cell_type": "markdown",
   "metadata": {
    "slideshow": {
     "slide_type": "-"
    }
   },
   "source": [
    "<center>\n",
    "<img src=\"img/Qimage-15.JPG\" width=\"750\"/>"
   ]
  },
  {
   "cell_type": "markdown",
   "metadata": {
    "slideshow": {
     "slide_type": "slide"
    }
   },
   "source": [
    "### In-Class Exercise\n",
    "\n",
    "Write a Python program that takes a list of dictionaries where each dictionary contains information about a student (name, grades). The program should calculate the average grade for each student, determine their grade category (e.g., \"Pass\" or \"Fail\"), and then summarize the results."
   ]
  },
  {
   "cell_type": "markdown",
   "metadata": {
    "slideshow": {
     "slide_type": "slide"
    }
   },
   "source": [
    "<center>\n",
    "    \n",
    "# 2. Object-Oriented Programming"
   ]
  },
  {
   "cell_type": "markdown",
   "metadata": {
    "slideshow": {
     "slide_type": "-"
    }
   },
   "source": [
    "* As the name implies, the main “actors” in the object-oriented paradigm are called **_objects_**.\n",
    "* Each object is an **_instance_** of a **_class_**.\n",
    "* Each class presents to the outside world a concise and consistent view of the objects that are instances of this class."
   ]
  },
  {
   "cell_type": "markdown",
   "metadata": {
    "slideshow": {
     "slide_type": "fragment"
    }
   },
   "source": [
    "1. The class definition typically specifies **_instance variables_**, also known as **_data members_**, that the object contains.\n",
    "2. It also contains the **_methods_**, known as **_member functions_**, that the object can execute."
   ]
  },
  {
   "cell_type": "markdown",
   "metadata": {
    "slideshow": {
     "slide_type": "slide"
    }
   },
   "source": [
    "### Object-Oriented Design Goals"
   ]
  },
  {
   "cell_type": "markdown",
   "metadata": {
    "slideshow": {
     "slide_type": "-"
    }
   },
   "source": [
    "<center>\n",
    "<img src=\"img/Qimage-20.JPG\" width=\"800\"/>"
   ]
  },
  {
   "cell_type": "markdown",
   "metadata": {
    "slideshow": {
     "slide_type": "fragment"
    }
   },
   "source": [
    "### Object-Oriented Design Principles"
   ]
  },
  {
   "cell_type": "markdown",
   "metadata": {
    "slideshow": {
     "slide_type": "-"
    }
   },
   "source": [
    "<center>\n",
    "<img src=\"img/Qimage-21.JPG\" width=\"900\"/>"
   ]
  },
  {
   "cell_type": "markdown",
   "metadata": {
    "slideshow": {
     "slide_type": "slide"
    }
   },
   "source": [
    "### An Example of a Class Diagram "
   ]
  },
  {
   "cell_type": "code",
   "execution_count": 1,
   "metadata": {
    "slideshow": {
     "slide_type": "-"
    }
   },
   "outputs": [],
   "source": [
    "+---------------------+      +------------------------+      +--------------------------+\n",
    "|      Hospital       |      |     Department         |      |       Doctor             |\n",
    "+---------------------+------|------------------------+------|--------------------------+\n",
    "| - name: str         |      | - name: str            |      | - name: str              |\n",
    "| - address: str      |      | - doctors: List[Doctor]|      | - specialization: str    |\n",
    "| - departments:      |      | - nurses: List[Nurse]  |      | - department: Department |\n",
    "|   List[Department]  |      |                        |      | - patients: List[Patient]|\n",
    "+---------------------+      +------------------------+      +--------------------------+\n",
    "| + add_department()  |      | + add_doctor()         |      | + schedule_appointment() |\n",
    "| + get_department( ) |      | + add_nurse()          |      | + add_patient()          |\n",
    "| + list_departments()|      | + get_doctor()         |      | + list_patients()        |\n",
    "+---------------------+      | + get_nurse()          |      +--------------------------+\n",
    "                             | + list_doctors()       | \n",
    "                             | + list_nurses()        |\n",
    "                             +------------------------+\n",
    "\n",
    "+---------------------+      +-------------------------+      +-------------------+\n",
    "|       Nurse         |      |      Patient            |      |   MedicalRecord   |\n",
    "+---------------------+      +-------------------------+------|-------------------+\n",
    "| - name: str         |      | - name: str             |      | - record_id: int  |\n",
    "| - department:       |      | - age: int              |      | - patient: Patient|\n",
    "|   Department        |      | - medical_records:      |      | - doctor: Doctor  |\n",
    "| - assigned_patients:|      |   List[MedicalRecord]   |      | - diagnosis: str  |\n",
    "|   List[Patient]     |      +-------------------------+      | - treatment: str  |\n",
    "+---------------------+      | + add_medical_record()  |      | - date: str       |\n",
    "| + assign_patient()  |      | + get_medical_records() |      +-------------------+\n",
    "| + list_assigned_    |      | + schedule_appointment()|      | + update_record() |\n",
    "|   patients()        |      +-------------------------+      +-------------------+\n",
    "+---------------------+\n",
    "\n",
    "+---------------------+\n",
    "|    Appointment      |\n",
    "+---------------------+\n",
    "| - patient: Patient  |\n",
    "| - doctor: Doctor    |\n",
    "| - date: str         |\n",
    "| - status: str       |\n",
    "+---------------------+\n",
    "| + reschedule()      |\n",
    "| + cancel()          |\n",
    "| + mark_completed()  |\n",
    "+---------------------+\n"
   ]
  },
  {
   "cell_type": "markdown",
   "metadata": {
    "slideshow": {
     "slide_type": "slide"
    }
   },
   "source": [
    "### Class Definitions"
   ]
  },
  {
   "cell_type": "code",
   "execution_count": 11,
   "metadata": {
    "slideshow": {
     "slide_type": "-"
    }
   },
   "outputs": [],
   "source": [
    "# Class representing a Hospital\n",
    "class Hospital:\n",
    "    def __init__(self, name, address):\n",
    "        self.name = name\n",
    "        self.address = address\n",
    "        self.departments = []\n",
    "\n",
    "    def add_department(self, department):\n",
    "        self.departments.append(department)\n",
    "\n",
    "    def get_department(self, name):\n",
    "        for department in self.departments:\n",
    "            if department.name == name:\n",
    "                return department\n",
    "        return None\n",
    "\n",
    "    def list_departments(self):\n",
    "        return self.departments\n"
   ]
  },
  {
   "cell_type": "code",
   "execution_count": null,
   "metadata": {
    "slideshow": {
     "slide_type": "slide"
    }
   },
   "outputs": [],
   "source": [
    "# Class representing a Department within a Hospital\n",
    "class Department:\n",
    "    def __init__(self, name):\n",
    "        self.name = name\n",
    "        self.doctors = []\n",
    "        self.nurses = []\n",
    "\n",
    "    def add_doctor(self, doctor):\n",
    "        self.doctors.append(doctor)\n",
    "\n",
    "    def add_nurse(self, nurse):\n",
    "        self.nurses.append(nurse)\n",
    "\n",
    "    def get_doctor(self, name):\n",
    "        for doctor in self.doctors:\n",
    "            if doctor.name == name:\n",
    "                return doctor\n",
    "        return None\n",
    "\n",
    "    def get_nurse(self, name):\n",
    "        for nurse in self.nurses:\n",
    "            if nurse.name == name:\n",
    "                return nurse\n",
    "        return None\n",
    "\n",
    "    def list_doctors(self):\n",
    "        return self.doctors\n",
    "\n",
    "    def list_nurses(self):\n",
    "        return self.nurses"
   ]
  },
  {
   "cell_type": "code",
   "execution_count": null,
   "metadata": {
    "slideshow": {
     "slide_type": "slide"
    }
   },
   "outputs": [],
   "source": [
    "# Class representing a Doctor\n",
    "class Doctor:\n",
    "\n",
    "\n",
    "# Class representing a Nurse\n",
    "class Nurse:\n",
    "    \n",
    "# Class representing a Patient\n",
    "class Patient:\n",
    "    \n",
    "# Class representing an Appointment\n",
    "class Appointment:\n",
    "\n",
    "\n",
    "# Class representing a Medical Record for a Patient\n",
    "class MedicalRecord:"
   ]
  },
  {
   "cell_type": "markdown",
   "metadata": {
    "slideshow": {
     "slide_type": "slide"
    }
   },
   "source": [
    "#### The self Identifier"
   ]
  },
  {
   "cell_type": "markdown",
   "metadata": {
    "slideshow": {
     "slide_type": "-"
    }
   },
   "source": [
    "* In Python, the self identifier plays a key role.\n",
    "* In the context of the Hospital class, there can presumably be many different Hospital instances, and each must maintain its own name, address, and department.\n",
    "* Syntactically, `self` identifies the instance upon which a method is invoked.\n"
   ]
  },
  {
   "cell_type": "markdown",
   "metadata": {
    "slideshow": {
     "slide_type": "slide"
    }
   },
   "source": [
    "#### The Constructor\n",
    "\n",
    "A user can create an instance of the Hospital class using a syntax as:"
   ]
  },
  {
   "cell_type": "code",
   "execution_count": null,
   "metadata": {
    "slideshow": {
     "slide_type": "-"
    }
   },
   "outputs": [],
   "source": [
    "hospital = Hospital(\"OUH\", \"J. B. Winslows Vej 4, 5000 Odense\")"
   ]
  },
  {
   "cell_type": "markdown",
   "metadata": {
    "slideshow": {
     "slide_type": "slide"
    }
   },
   "source": [
    "### Usage Example"
   ]
  },
  {
   "cell_type": "code",
   "execution_count": null,
   "metadata": {
    "slideshow": {
     "slide_type": "-"
    }
   },
   "outputs": [],
   "source": [
    "# Create a hospital\n",
    "hospital = Hospital(\"OUH\", \"J. B. Winslows Vej 4, 5000 Odense\")\n",
    "\n",
    "# Create departments\n",
    "cardiology = Department(\"Cardiology\")\n",
    "orthopedics = Department(\"Orthopedics\")\n",
    "\n",
    "# Add departments to the hospital\n",
    "hospital.add_department(cardiology)\n",
    "hospital.add_department(orthopedics)\n",
    "\n",
    "# Create doctors\n",
    "dr_smith = Doctor(\"Dr. Smith\", \"Cardiologist\", cardiology)\n",
    "dr_jones = Doctor(\"Dr. Jones\", \"Orthopedic Surgeon\", orthopedics)\n",
    "\n",
    "# Add doctors to departments\n",
    "cardiology.add_doctor(dr_smith)\n",
    "orthopedics.add_doctor(dr_jones)\n",
    "\n",
    "# Create nurses\n",
    "nurse_anne = Nurse(\"Nurse Anne\", cardiology)\n",
    "nurse_bob = Nurse(\"Nurse Bob\", orthopedics)\n",
    "\n",
    "# Add nurses to departments\n",
    "cardiology.add_nurse(nurse_anne)\n",
    "orthopedics.add_nurse(nurse_bob)\n",
    "\n",
    "# Create a patient\n",
    "patient_john = Patient(\"John Doe\", 45)\n",
    "\n",
    "# Schedule an appointment for the patient with Dr. Smith\n",
    "appointment = patient_john.schedule_appointment(dr_smith, \"2024-08-10\")\n",
    "\n",
    "# Create a medical record for the patient\n",
    "medical_record = MedicalRecord(1, patient_john, dr_smith, \"Hypertension\", \"Medication\", \"2024-08-01\")\n",
    "patient_john.add_medical_record(medical_record)\n",
    "\n",
    "# Output some information\n",
    "print(f\"Hospital: {hospital.name}\")\n",
    "print(f\"Departments: {[dept.name for dept in hospital.list_departments()]}\")\n",
    "print(f\"Dr. Smith's Patients: {[patient.name for patient in dr_smith.list_patients()]}\")\n",
    "print(f\"John's Medical Records: {[record.diagnosis for record in patient_john.get_medical_records()]}\")\n"
   ]
  },
  {
   "cell_type": "markdown",
   "metadata": {
    "slideshow": {
     "slide_type": "slide"
    }
   },
   "source": [
    "<center>\n",
    "    \n",
    "# 3. Exercises"
   ]
  },
  {
   "cell_type": "markdown",
   "metadata": {
    "slideshow": {
     "slide_type": "-"
    }
   },
   "source": [
    "Please complete the code for the rest of the classes in the example above (i.e., Doctor, Nurse, Patient, Appointment, MedicalRecord)."
   ]
  },
  {
   "cell_type": "code",
   "execution_count": null,
   "metadata": {
    "slideshow": {
     "slide_type": "-"
    }
   },
   "outputs": [],
   "source": [
    "# Class representing a Doctor\n",
    "class Doctor:\n",
    "\n",
    "\n",
    "# Class representing a Nurse\n",
    "class Nurse:\n",
    "    \n",
    "# Class representing a Patient\n",
    "class Patient:\n",
    "    \n",
    "# Class representing an Appointment\n",
    "class Appointment:\n",
    "\n",
    "\n",
    "# Class representing a Medical Record for a Patient\n",
    "class MedicalRecord:"
   ]
  },
  {
   "cell_type": "markdown",
   "metadata": {
    "slideshow": {
     "slide_type": "slide"
    }
   },
   "source": [
    "# Thank you!\n"
   ]
  }
 ],
 "metadata": {
  "celltoolbar": "Slideshow",
  "kernelspec": {
   "display_name": "Python 3 (ipykernel)",
   "language": "python",
   "name": "python3"
  },
  "language_info": {
   "codemirror_mode": {
    "name": "ipython",
    "version": 3
   },
   "file_extension": ".py",
   "mimetype": "text/x-python",
   "name": "python",
   "nbconvert_exporter": "python",
   "pygments_lexer": "ipython3",
   "version": "3.9.13"
  }
 },
 "nbformat": 4,
 "nbformat_minor": 4
}
